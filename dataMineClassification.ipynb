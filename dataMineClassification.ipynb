{
  "nbformat": 4,
  "nbformat_minor": 0,
  "metadata": {
    "colab": {
      "provenance": []
    },
    "kernelspec": {
      "name": "python3",
      "display_name": "Python 3"
    },
    "language_info": {
      "name": "python"
    }
  },
  "cells": [
    {
      "cell_type": "code",
      "source": [
        "import numpy as np, pandas as pd, seaborn as sns, matplotlib.pyplot as plt, spacy\n",
        "import warnings\n",
        "warnings.filterwarnings('ignore')\n",
        "from sklearn.model_selection import train_test_split, GridSearchCV\n",
        "from sklearn.feature_extraction.text import TfidfVectorizer,CountVectorizer\n",
        "from sklearn.naive_bayes import MultinomialNB\n",
        "from sklearn.pipeline import make_pipeline\n",
        "from sklearn.metrics import confusion_matrix, classification_report, accuracy_score, f1_score\n",
        "from sklearn import metrics, ensemble\n",
        "from scipy import stats\n",
        "sns.set() # use seaborn plotting style"
      ],
      "metadata": {
        "id": "z-Se2d62BKfI"
      },
      "execution_count": 1,
      "outputs": []
    },
    {
      "cell_type": "markdown",
      "source": [
        "### Inspect Data"
      ],
      "metadata": {
        "id": "27cZypVyrbwF"
      }
    },
    {
      "cell_type": "code",
      "execution_count": 2,
      "metadata": {
        "colab": {
          "base_uri": "https://localhost:8080/",
          "height": 677
        },
        "id": "HOrsuoUaAZsy",
        "outputId": "2713450d-6447-4e1e-96c1-bea8cac63cea"
      },
      "outputs": [
        {
          "output_type": "execute_result",
          "data": {
            "text/plain": [
              "                            company_name                        title  \\\n",
              "0                             Subcodevs                Data Scientist   \n",
              "1                         Louis Vuitton         JUNIOR DATA SCIENTIST   \n",
              "2                            Outlier Ai   Data Scientist - AI Trainer   \n",
              "3         Motus Recruiting and Staffing       Data Scientist (Remote)   \n",
              "4  Vanderbilt University Medical Center      Data Scientist Associate   \n",
              "\n",
              "                                             summary  star  \\\n",
              "0  In this role, you will collaborate with cross-...   3.7   \n",
              "1  The succesful candidate will be recognized for...   3.6   \n",
              "2  About the opportunity: Outlier is looking for ...   2.4   \n",
              "3  Assist developing reports in Workday and other...   3.0   \n",
              "4  Guides and educates data science teams to prov...   3.7   \n",
              "\n",
              "           work_style                                            benefit  \\\n",
              "0  Full-time,Contract                                                NaN   \n",
              "1                 NaN  Disability insurance, Health insurance, Dental...   \n",
              "2           Freelance                                                NaN   \n",
              "3  Full-time,Contract  Health insurance, Dental insurance, 401(k), Vi...   \n",
              "4           Full-time                                                NaN   \n",
              "\n",
              "                                       qualification  \\\n",
              "0  IT experience within retail, Power BI, Azure, ...   \n",
              "1  Power BI, Google Cloud Platform, Mid-level, Ta...   \n",
              "2    Mathematics, Mid-level, Math, Bachelor's degree   \n",
              "3  Power BI, Data mining, R, Mid-level, Tableau, ...   \n",
              "4  Research, 3 years, Master's degree, Machine le...   \n",
              "\n",
              "                                    full description  duplicate count  \\\n",
              "0  Job SummaryWe are seeking a skilled Data Scien...                1   \n",
              "1  Poste\\nLouis Vuitton is seeking a dynamic and ...                1   \n",
              "2  Outlier helps the world’s most innovative comp...                1   \n",
              "3  Data Scientist (Remote)Our client, a premier g...                7   \n",
              "4  Discover Vanderbilt University Medical Center ...                1   \n",
              "\n",
              "            city          state  min salary  max salary  experience_year  \\\n",
              "0  United States  United States    26540.34    36824.28              7.5   \n",
              "1       New York             NY   100000.00   115000.00              0.0   \n",
              "2         Remote         Remote    38874.00    88350.00              0.0   \n",
              "3       Portland             OR    84816.00    84816.00              3.0   \n",
              "4      Nashville             TN   125300.00   182300.00              3.0   \n",
              "\n",
              "                         education         level programming_language  \\\n",
              "0  Master's degree,Doctor's degree     Mid-level  Python,SQL,C,Simula   \n",
              "1                              NaN     Mid-level      Python,Go,SQL,C   \n",
              "2                Bachelor's degree     Mid-level                  NaN   \n",
              "3                              NaN     Mid-level           Python,R,C   \n",
              "4                  Master's degree  Senior level                  R,C   \n",
              "\n",
              "                                         other skill  trans star  \\\n",
              "0  IT experience within retail, Power BI, Azure, ...    0.037240   \n",
              "1  Power BI, Google Cloud Platform, Mid-level, Ta...   -0.140941   \n",
              "2    Mathematics, Mid-level, Math, Bachelor's degree   -2.279110   \n",
              "3  Power BI, Data mining, R, Mid-level, Tableau, ...   -1.210025   \n",
              "4  Research, 3 years, Master's degree, Machine le...    0.037240   \n",
              "\n",
              "   trans min salary  trans max salary  trans experience_year  \\\n",
              "0         -2.221424         -1.507342               1.861461   \n",
              "1         -0.583684         -0.765747              -1.112598   \n",
              "2         -1.946452         -1.018556              -1.112598   \n",
              "3         -0.922203         -1.052080               0.077025   \n",
              "4         -0.019636         -0.127322               0.077025   \n",
              "\n",
              "   trans duplicate count           work_style_split  benefit_count  \\\n",
              "0              -0.519177  ['Full-time', 'Contract']              0   \n",
              "1              -0.519177                       ['']              7   \n",
              "2              -0.519177              ['Freelance']              0   \n",
              "3               3.206999  ['Full-time', 'Contract']              4   \n",
              "4              -0.519177              ['Full-time']              0   \n",
              "\n",
              "   other_skill_count  programming_language_count  level_encoded  Contract  \\\n",
              "0                 25                           4              1         1   \n",
              "1                 11                           4              1         0   \n",
              "2                  4                           0              1         0   \n",
              "3                 14                           3              1         1   \n",
              "4                  8                           2              2         0   \n",
              "\n",
              "   Freelance  Full-time  Internship  Part-time  Permanent  Temp-to-hire  \\\n",
              "0          0          1           0          0          0             0   \n",
              "1          0          0           0          0          0             0   \n",
              "2          1          0           0          0          0             0   \n",
              "3          0          1           0          0          0             0   \n",
              "4          0          1           0          0          0             0   \n",
              "\n",
              "   Temporary  Associate's degree  Bachelor's degree  Doctor's degree  \\\n",
              "0          0                   0                  0                1   \n",
              "1          0                   0                  0                0   \n",
              "2          0                   0                  1                0   \n",
              "3          0                   0                  0                0   \n",
              "4          0                   0                  0                0   \n",
              "\n",
              "   High school diploma or GED  Master's degree  Bash  C  C#  C++  COBOL  CSS  \\\n",
              "0                           0                1     0  1   0    0      0    0   \n",
              "1                           0                0     0  1   0    0      0    0   \n",
              "2                           0                0     0  0   0    0      0    0   \n",
              "3                           0                0     0  1   0    0      0    0   \n",
              "4                           0                1     0  1   0    0      0    0   \n",
              "\n",
              "   Crystal  Fortran  Go  HTML  Java  JavaScript  Kotlin  MATLAB  ML  PHP  \\\n",
              "0        0        0   0     0     0           0       0       0   0    0   \n",
              "1        0        0   1     0     0           0       0       0   0    0   \n",
              "2        0        0   0     0     0           0       0       0   0    0   \n",
              "3        0        0   0     0     0           0       0       0   0    0   \n",
              "4        0        0   0     0     0           0       0       0   0    0   \n",
              "\n",
              "   Perl  Python  R  Red  Rust  SQL  Scala  Shell Script  Simula  Visual Basic  \n",
              "0     0       1  0    0     0    1      0             0       1             0  \n",
              "1     0       1  0    0     0    1      0             0       0             0  \n",
              "2     0       0  0    0     0    0      0             0       0             0  \n",
              "3     0       1  1    0     0    0      0             0       0             0  \n",
              "4     0       0  1    0     0    0      0             0       0             0  "
            ],
            "text/html": [
              "\n",
              "  <div id=\"df-c3d90dcb-0a61-4acc-a49a-e8f1f6d551e6\" class=\"colab-df-container\">\n",
              "    <div>\n",
              "<style scoped>\n",
              "    .dataframe tbody tr th:only-of-type {\n",
              "        vertical-align: middle;\n",
              "    }\n",
              "\n",
              "    .dataframe tbody tr th {\n",
              "        vertical-align: top;\n",
              "    }\n",
              "\n",
              "    .dataframe thead th {\n",
              "        text-align: right;\n",
              "    }\n",
              "</style>\n",
              "<table border=\"1\" class=\"dataframe\">\n",
              "  <thead>\n",
              "    <tr style=\"text-align: right;\">\n",
              "      <th></th>\n",
              "      <th>company_name</th>\n",
              "      <th>title</th>\n",
              "      <th>summary</th>\n",
              "      <th>star</th>\n",
              "      <th>work_style</th>\n",
              "      <th>benefit</th>\n",
              "      <th>qualification</th>\n",
              "      <th>full description</th>\n",
              "      <th>duplicate count</th>\n",
              "      <th>city</th>\n",
              "      <th>state</th>\n",
              "      <th>min salary</th>\n",
              "      <th>max salary</th>\n",
              "      <th>experience_year</th>\n",
              "      <th>education</th>\n",
              "      <th>level</th>\n",
              "      <th>programming_language</th>\n",
              "      <th>other skill</th>\n",
              "      <th>trans star</th>\n",
              "      <th>trans min salary</th>\n",
              "      <th>trans max salary</th>\n",
              "      <th>trans experience_year</th>\n",
              "      <th>trans duplicate count</th>\n",
              "      <th>work_style_split</th>\n",
              "      <th>benefit_count</th>\n",
              "      <th>other_skill_count</th>\n",
              "      <th>programming_language_count</th>\n",
              "      <th>level_encoded</th>\n",
              "      <th>Contract</th>\n",
              "      <th>Freelance</th>\n",
              "      <th>Full-time</th>\n",
              "      <th>Internship</th>\n",
              "      <th>Part-time</th>\n",
              "      <th>Permanent</th>\n",
              "      <th>Temp-to-hire</th>\n",
              "      <th>Temporary</th>\n",
              "      <th>Associate's degree</th>\n",
              "      <th>Bachelor's degree</th>\n",
              "      <th>Doctor's degree</th>\n",
              "      <th>High school diploma or GED</th>\n",
              "      <th>Master's degree</th>\n",
              "      <th>Bash</th>\n",
              "      <th>C</th>\n",
              "      <th>C#</th>\n",
              "      <th>C++</th>\n",
              "      <th>COBOL</th>\n",
              "      <th>CSS</th>\n",
              "      <th>Crystal</th>\n",
              "      <th>Fortran</th>\n",
              "      <th>Go</th>\n",
              "      <th>HTML</th>\n",
              "      <th>Java</th>\n",
              "      <th>JavaScript</th>\n",
              "      <th>Kotlin</th>\n",
              "      <th>MATLAB</th>\n",
              "      <th>ML</th>\n",
              "      <th>PHP</th>\n",
              "      <th>Perl</th>\n",
              "      <th>Python</th>\n",
              "      <th>R</th>\n",
              "      <th>Red</th>\n",
              "      <th>Rust</th>\n",
              "      <th>SQL</th>\n",
              "      <th>Scala</th>\n",
              "      <th>Shell Script</th>\n",
              "      <th>Simula</th>\n",
              "      <th>Visual Basic</th>\n",
              "    </tr>\n",
              "  </thead>\n",
              "  <tbody>\n",
              "    <tr>\n",
              "      <th>0</th>\n",
              "      <td>Subcodevs</td>\n",
              "      <td>Data Scientist</td>\n",
              "      <td>In this role, you will collaborate with cross-...</td>\n",
              "      <td>3.7</td>\n",
              "      <td>Full-time,Contract</td>\n",
              "      <td>NaN</td>\n",
              "      <td>IT experience within retail, Power BI, Azure, ...</td>\n",
              "      <td>Job SummaryWe are seeking a skilled Data Scien...</td>\n",
              "      <td>1</td>\n",
              "      <td>United States</td>\n",
              "      <td>United States</td>\n",
              "      <td>26540.34</td>\n",
              "      <td>36824.28</td>\n",
              "      <td>7.5</td>\n",
              "      <td>Master's degree,Doctor's degree</td>\n",
              "      <td>Mid-level</td>\n",
              "      <td>Python,SQL,C,Simula</td>\n",
              "      <td>IT experience within retail, Power BI, Azure, ...</td>\n",
              "      <td>0.037240</td>\n",
              "      <td>-2.221424</td>\n",
              "      <td>-1.507342</td>\n",
              "      <td>1.861461</td>\n",
              "      <td>-0.519177</td>\n",
              "      <td>['Full-time', 'Contract']</td>\n",
              "      <td>0</td>\n",
              "      <td>25</td>\n",
              "      <td>4</td>\n",
              "      <td>1</td>\n",
              "      <td>1</td>\n",
              "      <td>0</td>\n",
              "      <td>1</td>\n",
              "      <td>0</td>\n",
              "      <td>0</td>\n",
              "      <td>0</td>\n",
              "      <td>0</td>\n",
              "      <td>0</td>\n",
              "      <td>0</td>\n",
              "      <td>0</td>\n",
              "      <td>1</td>\n",
              "      <td>0</td>\n",
              "      <td>1</td>\n",
              "      <td>0</td>\n",
              "      <td>1</td>\n",
              "      <td>0</td>\n",
              "      <td>0</td>\n",
              "      <td>0</td>\n",
              "      <td>0</td>\n",
              "      <td>0</td>\n",
              "      <td>0</td>\n",
              "      <td>0</td>\n",
              "      <td>0</td>\n",
              "      <td>0</td>\n",
              "      <td>0</td>\n",
              "      <td>0</td>\n",
              "      <td>0</td>\n",
              "      <td>0</td>\n",
              "      <td>0</td>\n",
              "      <td>0</td>\n",
              "      <td>1</td>\n",
              "      <td>0</td>\n",
              "      <td>0</td>\n",
              "      <td>0</td>\n",
              "      <td>1</td>\n",
              "      <td>0</td>\n",
              "      <td>0</td>\n",
              "      <td>1</td>\n",
              "      <td>0</td>\n",
              "    </tr>\n",
              "    <tr>\n",
              "      <th>1</th>\n",
              "      <td>Louis Vuitton</td>\n",
              "      <td>JUNIOR DATA SCIENTIST</td>\n",
              "      <td>The succesful candidate will be recognized for...</td>\n",
              "      <td>3.6</td>\n",
              "      <td>NaN</td>\n",
              "      <td>Disability insurance, Health insurance, Dental...</td>\n",
              "      <td>Power BI, Google Cloud Platform, Mid-level, Ta...</td>\n",
              "      <td>Poste\\nLouis Vuitton is seeking a dynamic and ...</td>\n",
              "      <td>1</td>\n",
              "      <td>New York</td>\n",
              "      <td>NY</td>\n",
              "      <td>100000.00</td>\n",
              "      <td>115000.00</td>\n",
              "      <td>0.0</td>\n",
              "      <td>NaN</td>\n",
              "      <td>Mid-level</td>\n",
              "      <td>Python,Go,SQL,C</td>\n",
              "      <td>Power BI, Google Cloud Platform, Mid-level, Ta...</td>\n",
              "      <td>-0.140941</td>\n",
              "      <td>-0.583684</td>\n",
              "      <td>-0.765747</td>\n",
              "      <td>-1.112598</td>\n",
              "      <td>-0.519177</td>\n",
              "      <td>['']</td>\n",
              "      <td>7</td>\n",
              "      <td>11</td>\n",
              "      <td>4</td>\n",
              "      <td>1</td>\n",
              "      <td>0</td>\n",
              "      <td>0</td>\n",
              "      <td>0</td>\n",
              "      <td>0</td>\n",
              "      <td>0</td>\n",
              "      <td>0</td>\n",
              "      <td>0</td>\n",
              "      <td>0</td>\n",
              "      <td>0</td>\n",
              "      <td>0</td>\n",
              "      <td>0</td>\n",
              "      <td>0</td>\n",
              "      <td>0</td>\n",
              "      <td>0</td>\n",
              "      <td>1</td>\n",
              "      <td>0</td>\n",
              "      <td>0</td>\n",
              "      <td>0</td>\n",
              "      <td>0</td>\n",
              "      <td>0</td>\n",
              "      <td>0</td>\n",
              "      <td>1</td>\n",
              "      <td>0</td>\n",
              "      <td>0</td>\n",
              "      <td>0</td>\n",
              "      <td>0</td>\n",
              "      <td>0</td>\n",
              "      <td>0</td>\n",
              "      <td>0</td>\n",
              "      <td>0</td>\n",
              "      <td>1</td>\n",
              "      <td>0</td>\n",
              "      <td>0</td>\n",
              "      <td>0</td>\n",
              "      <td>1</td>\n",
              "      <td>0</td>\n",
              "      <td>0</td>\n",
              "      <td>0</td>\n",
              "      <td>0</td>\n",
              "    </tr>\n",
              "    <tr>\n",
              "      <th>2</th>\n",
              "      <td>Outlier Ai</td>\n",
              "      <td>Data Scientist - AI Trainer</td>\n",
              "      <td>About the opportunity: Outlier is looking for ...</td>\n",
              "      <td>2.4</td>\n",
              "      <td>Freelance</td>\n",
              "      <td>NaN</td>\n",
              "      <td>Mathematics, Mid-level, Math, Bachelor's degree</td>\n",
              "      <td>Outlier helps the world’s most innovative comp...</td>\n",
              "      <td>1</td>\n",
              "      <td>Remote</td>\n",
              "      <td>Remote</td>\n",
              "      <td>38874.00</td>\n",
              "      <td>88350.00</td>\n",
              "      <td>0.0</td>\n",
              "      <td>Bachelor's degree</td>\n",
              "      <td>Mid-level</td>\n",
              "      <td>NaN</td>\n",
              "      <td>Mathematics, Mid-level, Math, Bachelor's degree</td>\n",
              "      <td>-2.279110</td>\n",
              "      <td>-1.946452</td>\n",
              "      <td>-1.018556</td>\n",
              "      <td>-1.112598</td>\n",
              "      <td>-0.519177</td>\n",
              "      <td>['Freelance']</td>\n",
              "      <td>0</td>\n",
              "      <td>4</td>\n",
              "      <td>0</td>\n",
              "      <td>1</td>\n",
              "      <td>0</td>\n",
              "      <td>1</td>\n",
              "      <td>0</td>\n",
              "      <td>0</td>\n",
              "      <td>0</td>\n",
              "      <td>0</td>\n",
              "      <td>0</td>\n",
              "      <td>0</td>\n",
              "      <td>0</td>\n",
              "      <td>1</td>\n",
              "      <td>0</td>\n",
              "      <td>0</td>\n",
              "      <td>0</td>\n",
              "      <td>0</td>\n",
              "      <td>0</td>\n",
              "      <td>0</td>\n",
              "      <td>0</td>\n",
              "      <td>0</td>\n",
              "      <td>0</td>\n",
              "      <td>0</td>\n",
              "      <td>0</td>\n",
              "      <td>0</td>\n",
              "      <td>0</td>\n",
              "      <td>0</td>\n",
              "      <td>0</td>\n",
              "      <td>0</td>\n",
              "      <td>0</td>\n",
              "      <td>0</td>\n",
              "      <td>0</td>\n",
              "      <td>0</td>\n",
              "      <td>0</td>\n",
              "      <td>0</td>\n",
              "      <td>0</td>\n",
              "      <td>0</td>\n",
              "      <td>0</td>\n",
              "      <td>0</td>\n",
              "      <td>0</td>\n",
              "      <td>0</td>\n",
              "      <td>0</td>\n",
              "    </tr>\n",
              "    <tr>\n",
              "      <th>3</th>\n",
              "      <td>Motus Recruiting and Staffing</td>\n",
              "      <td>Data Scientist (Remote)</td>\n",
              "      <td>Assist developing reports in Workday and other...</td>\n",
              "      <td>3.0</td>\n",
              "      <td>Full-time,Contract</td>\n",
              "      <td>Health insurance, Dental insurance, 401(k), Vi...</td>\n",
              "      <td>Power BI, Data mining, R, Mid-level, Tableau, ...</td>\n",
              "      <td>Data Scientist (Remote)Our client, a premier g...</td>\n",
              "      <td>7</td>\n",
              "      <td>Portland</td>\n",
              "      <td>OR</td>\n",
              "      <td>84816.00</td>\n",
              "      <td>84816.00</td>\n",
              "      <td>3.0</td>\n",
              "      <td>NaN</td>\n",
              "      <td>Mid-level</td>\n",
              "      <td>Python,R,C</td>\n",
              "      <td>Power BI, Data mining, R, Mid-level, Tableau, ...</td>\n",
              "      <td>-1.210025</td>\n",
              "      <td>-0.922203</td>\n",
              "      <td>-1.052080</td>\n",
              "      <td>0.077025</td>\n",
              "      <td>3.206999</td>\n",
              "      <td>['Full-time', 'Contract']</td>\n",
              "      <td>4</td>\n",
              "      <td>14</td>\n",
              "      <td>3</td>\n",
              "      <td>1</td>\n",
              "      <td>1</td>\n",
              "      <td>0</td>\n",
              "      <td>1</td>\n",
              "      <td>0</td>\n",
              "      <td>0</td>\n",
              "      <td>0</td>\n",
              "      <td>0</td>\n",
              "      <td>0</td>\n",
              "      <td>0</td>\n",
              "      <td>0</td>\n",
              "      <td>0</td>\n",
              "      <td>0</td>\n",
              "      <td>0</td>\n",
              "      <td>0</td>\n",
              "      <td>1</td>\n",
              "      <td>0</td>\n",
              "      <td>0</td>\n",
              "      <td>0</td>\n",
              "      <td>0</td>\n",
              "      <td>0</td>\n",
              "      <td>0</td>\n",
              "      <td>0</td>\n",
              "      <td>0</td>\n",
              "      <td>0</td>\n",
              "      <td>0</td>\n",
              "      <td>0</td>\n",
              "      <td>0</td>\n",
              "      <td>0</td>\n",
              "      <td>0</td>\n",
              "      <td>0</td>\n",
              "      <td>1</td>\n",
              "      <td>1</td>\n",
              "      <td>0</td>\n",
              "      <td>0</td>\n",
              "      <td>0</td>\n",
              "      <td>0</td>\n",
              "      <td>0</td>\n",
              "      <td>0</td>\n",
              "      <td>0</td>\n",
              "    </tr>\n",
              "    <tr>\n",
              "      <th>4</th>\n",
              "      <td>Vanderbilt University Medical Center</td>\n",
              "      <td>Data Scientist Associate</td>\n",
              "      <td>Guides and educates data science teams to prov...</td>\n",
              "      <td>3.7</td>\n",
              "      <td>Full-time</td>\n",
              "      <td>NaN</td>\n",
              "      <td>Research, 3 years, Master's degree, Machine le...</td>\n",
              "      <td>Discover Vanderbilt University Medical Center ...</td>\n",
              "      <td>1</td>\n",
              "      <td>Nashville</td>\n",
              "      <td>TN</td>\n",
              "      <td>125300.00</td>\n",
              "      <td>182300.00</td>\n",
              "      <td>3.0</td>\n",
              "      <td>Master's degree</td>\n",
              "      <td>Senior level</td>\n",
              "      <td>R,C</td>\n",
              "      <td>Research, 3 years, Master's degree, Machine le...</td>\n",
              "      <td>0.037240</td>\n",
              "      <td>-0.019636</td>\n",
              "      <td>-0.127322</td>\n",
              "      <td>0.077025</td>\n",
              "      <td>-0.519177</td>\n",
              "      <td>['Full-time']</td>\n",
              "      <td>0</td>\n",
              "      <td>8</td>\n",
              "      <td>2</td>\n",
              "      <td>2</td>\n",
              "      <td>0</td>\n",
              "      <td>0</td>\n",
              "      <td>1</td>\n",
              "      <td>0</td>\n",
              "      <td>0</td>\n",
              "      <td>0</td>\n",
              "      <td>0</td>\n",
              "      <td>0</td>\n",
              "      <td>0</td>\n",
              "      <td>0</td>\n",
              "      <td>0</td>\n",
              "      <td>0</td>\n",
              "      <td>1</td>\n",
              "      <td>0</td>\n",
              "      <td>1</td>\n",
              "      <td>0</td>\n",
              "      <td>0</td>\n",
              "      <td>0</td>\n",
              "      <td>0</td>\n",
              "      <td>0</td>\n",
              "      <td>0</td>\n",
              "      <td>0</td>\n",
              "      <td>0</td>\n",
              "      <td>0</td>\n",
              "      <td>0</td>\n",
              "      <td>0</td>\n",
              "      <td>0</td>\n",
              "      <td>0</td>\n",
              "      <td>0</td>\n",
              "      <td>0</td>\n",
              "      <td>0</td>\n",
              "      <td>1</td>\n",
              "      <td>0</td>\n",
              "      <td>0</td>\n",
              "      <td>0</td>\n",
              "      <td>0</td>\n",
              "      <td>0</td>\n",
              "      <td>0</td>\n",
              "      <td>0</td>\n",
              "    </tr>\n",
              "  </tbody>\n",
              "</table>\n",
              "</div>\n",
              "    <div class=\"colab-df-buttons\">\n",
              "\n",
              "  <div class=\"colab-df-container\">\n",
              "    <button class=\"colab-df-convert\" onclick=\"convertToInteractive('df-c3d90dcb-0a61-4acc-a49a-e8f1f6d551e6')\"\n",
              "            title=\"Convert this dataframe to an interactive table.\"\n",
              "            style=\"display:none;\">\n",
              "\n",
              "  <svg xmlns=\"http://www.w3.org/2000/svg\" height=\"24px\" viewBox=\"0 -960 960 960\">\n",
              "    <path d=\"M120-120v-720h720v720H120Zm60-500h600v-160H180v160Zm220 220h160v-160H400v160Zm0 220h160v-160H400v160ZM180-400h160v-160H180v160Zm440 0h160v-160H620v160ZM180-180h160v-160H180v160Zm440 0h160v-160H620v160Z\"/>\n",
              "  </svg>\n",
              "    </button>\n",
              "\n",
              "  <style>\n",
              "    .colab-df-container {\n",
              "      display:flex;\n",
              "      gap: 12px;\n",
              "    }\n",
              "\n",
              "    .colab-df-convert {\n",
              "      background-color: #E8F0FE;\n",
              "      border: none;\n",
              "      border-radius: 50%;\n",
              "      cursor: pointer;\n",
              "      display: none;\n",
              "      fill: #1967D2;\n",
              "      height: 32px;\n",
              "      padding: 0 0 0 0;\n",
              "      width: 32px;\n",
              "    }\n",
              "\n",
              "    .colab-df-convert:hover {\n",
              "      background-color: #E2EBFA;\n",
              "      box-shadow: 0px 1px 2px rgba(60, 64, 67, 0.3), 0px 1px 3px 1px rgba(60, 64, 67, 0.15);\n",
              "      fill: #174EA6;\n",
              "    }\n",
              "\n",
              "    .colab-df-buttons div {\n",
              "      margin-bottom: 4px;\n",
              "    }\n",
              "\n",
              "    [theme=dark] .colab-df-convert {\n",
              "      background-color: #3B4455;\n",
              "      fill: #D2E3FC;\n",
              "    }\n",
              "\n",
              "    [theme=dark] .colab-df-convert:hover {\n",
              "      background-color: #434B5C;\n",
              "      box-shadow: 0px 1px 3px 1px rgba(0, 0, 0, 0.15);\n",
              "      filter: drop-shadow(0px 1px 2px rgba(0, 0, 0, 0.3));\n",
              "      fill: #FFFFFF;\n",
              "    }\n",
              "  </style>\n",
              "\n",
              "    <script>\n",
              "      const buttonEl =\n",
              "        document.querySelector('#df-c3d90dcb-0a61-4acc-a49a-e8f1f6d551e6 button.colab-df-convert');\n",
              "      buttonEl.style.display =\n",
              "        google.colab.kernel.accessAllowed ? 'block' : 'none';\n",
              "\n",
              "      async function convertToInteractive(key) {\n",
              "        const element = document.querySelector('#df-c3d90dcb-0a61-4acc-a49a-e8f1f6d551e6');\n",
              "        const dataTable =\n",
              "          await google.colab.kernel.invokeFunction('convertToInteractive',\n",
              "                                                    [key], {});\n",
              "        if (!dataTable) return;\n",
              "\n",
              "        const docLinkHtml = 'Like what you see? Visit the ' +\n",
              "          '<a target=\"_blank\" href=https://colab.research.google.com/notebooks/data_table.ipynb>data table notebook</a>'\n",
              "          + ' to learn more about interactive tables.';\n",
              "        element.innerHTML = '';\n",
              "        dataTable['output_type'] = 'display_data';\n",
              "        await google.colab.output.renderOutput(dataTable, element);\n",
              "        const docLink = document.createElement('div');\n",
              "        docLink.innerHTML = docLinkHtml;\n",
              "        element.appendChild(docLink);\n",
              "      }\n",
              "    </script>\n",
              "  </div>\n",
              "\n",
              "\n",
              "<div id=\"df-eebc601a-3b95-418f-a6c3-2abe4c597781\">\n",
              "  <button class=\"colab-df-quickchart\" onclick=\"quickchart('df-eebc601a-3b95-418f-a6c3-2abe4c597781')\"\n",
              "            title=\"Suggest charts\"\n",
              "            style=\"display:none;\">\n",
              "\n",
              "<svg xmlns=\"http://www.w3.org/2000/svg\" height=\"24px\"viewBox=\"0 0 24 24\"\n",
              "     width=\"24px\">\n",
              "    <g>\n",
              "        <path d=\"M19 3H5c-1.1 0-2 .9-2 2v14c0 1.1.9 2 2 2h14c1.1 0 2-.9 2-2V5c0-1.1-.9-2-2-2zM9 17H7v-7h2v7zm4 0h-2V7h2v10zm4 0h-2v-4h2v4z\"/>\n",
              "    </g>\n",
              "</svg>\n",
              "  </button>\n",
              "\n",
              "<style>\n",
              "  .colab-df-quickchart {\n",
              "      --bg-color: #E8F0FE;\n",
              "      --fill-color: #1967D2;\n",
              "      --hover-bg-color: #E2EBFA;\n",
              "      --hover-fill-color: #174EA6;\n",
              "      --disabled-fill-color: #AAA;\n",
              "      --disabled-bg-color: #DDD;\n",
              "  }\n",
              "\n",
              "  [theme=dark] .colab-df-quickchart {\n",
              "      --bg-color: #3B4455;\n",
              "      --fill-color: #D2E3FC;\n",
              "      --hover-bg-color: #434B5C;\n",
              "      --hover-fill-color: #FFFFFF;\n",
              "      --disabled-bg-color: #3B4455;\n",
              "      --disabled-fill-color: #666;\n",
              "  }\n",
              "\n",
              "  .colab-df-quickchart {\n",
              "    background-color: var(--bg-color);\n",
              "    border: none;\n",
              "    border-radius: 50%;\n",
              "    cursor: pointer;\n",
              "    display: none;\n",
              "    fill: var(--fill-color);\n",
              "    height: 32px;\n",
              "    padding: 0;\n",
              "    width: 32px;\n",
              "  }\n",
              "\n",
              "  .colab-df-quickchart:hover {\n",
              "    background-color: var(--hover-bg-color);\n",
              "    box-shadow: 0 1px 2px rgba(60, 64, 67, 0.3), 0 1px 3px 1px rgba(60, 64, 67, 0.15);\n",
              "    fill: var(--button-hover-fill-color);\n",
              "  }\n",
              "\n",
              "  .colab-df-quickchart-complete:disabled,\n",
              "  .colab-df-quickchart-complete:disabled:hover {\n",
              "    background-color: var(--disabled-bg-color);\n",
              "    fill: var(--disabled-fill-color);\n",
              "    box-shadow: none;\n",
              "  }\n",
              "\n",
              "  .colab-df-spinner {\n",
              "    border: 2px solid var(--fill-color);\n",
              "    border-color: transparent;\n",
              "    border-bottom-color: var(--fill-color);\n",
              "    animation:\n",
              "      spin 1s steps(1) infinite;\n",
              "  }\n",
              "\n",
              "  @keyframes spin {\n",
              "    0% {\n",
              "      border-color: transparent;\n",
              "      border-bottom-color: var(--fill-color);\n",
              "      border-left-color: var(--fill-color);\n",
              "    }\n",
              "    20% {\n",
              "      border-color: transparent;\n",
              "      border-left-color: var(--fill-color);\n",
              "      border-top-color: var(--fill-color);\n",
              "    }\n",
              "    30% {\n",
              "      border-color: transparent;\n",
              "      border-left-color: var(--fill-color);\n",
              "      border-top-color: var(--fill-color);\n",
              "      border-right-color: var(--fill-color);\n",
              "    }\n",
              "    40% {\n",
              "      border-color: transparent;\n",
              "      border-right-color: var(--fill-color);\n",
              "      border-top-color: var(--fill-color);\n",
              "    }\n",
              "    60% {\n",
              "      border-color: transparent;\n",
              "      border-right-color: var(--fill-color);\n",
              "    }\n",
              "    80% {\n",
              "      border-color: transparent;\n",
              "      border-right-color: var(--fill-color);\n",
              "      border-bottom-color: var(--fill-color);\n",
              "    }\n",
              "    90% {\n",
              "      border-color: transparent;\n",
              "      border-bottom-color: var(--fill-color);\n",
              "    }\n",
              "  }\n",
              "</style>\n",
              "\n",
              "  <script>\n",
              "    async function quickchart(key) {\n",
              "      const quickchartButtonEl =\n",
              "        document.querySelector('#' + key + ' button');\n",
              "      quickchartButtonEl.disabled = true;  // To prevent multiple clicks.\n",
              "      quickchartButtonEl.classList.add('colab-df-spinner');\n",
              "      try {\n",
              "        const charts = await google.colab.kernel.invokeFunction(\n",
              "            'suggestCharts', [key], {});\n",
              "      } catch (error) {\n",
              "        console.error('Error during call to suggestCharts:', error);\n",
              "      }\n",
              "      quickchartButtonEl.classList.remove('colab-df-spinner');\n",
              "      quickchartButtonEl.classList.add('colab-df-quickchart-complete');\n",
              "    }\n",
              "    (() => {\n",
              "      let quickchartButtonEl =\n",
              "        document.querySelector('#df-eebc601a-3b95-418f-a6c3-2abe4c597781 button');\n",
              "      quickchartButtonEl.style.display =\n",
              "        google.colab.kernel.accessAllowed ? 'block' : 'none';\n",
              "    })();\n",
              "  </script>\n",
              "</div>\n",
              "\n",
              "    </div>\n",
              "  </div>\n"
            ],
            "application/vnd.google.colaboratory.intrinsic+json": {
              "type": "dataframe",
              "variable_name": "df"
            }
          },
          "metadata": {},
          "execution_count": 2
        }
      ],
      "source": [
        "# Load the dataset\n",
        "pd.set_option('display.max_columns', None)\n",
        "df = pd.read_csv('SImplyHired_cleaned_data_new_3_20.csv')\n",
        "df.head()"
      ]
    },
    {
      "cell_type": "code",
      "source": [
        "# number of unique levels\n",
        "df['level'].value_counts()"
      ],
      "metadata": {
        "colab": {
          "base_uri": "https://localhost:8080/",
          "height": 209
        },
        "id": "shNeeAWUncUM",
        "outputId": "1a485d63-2ab9-42ca-a1ea-2c022f137911"
      },
      "execution_count": 3,
      "outputs": [
        {
          "output_type": "execute_result",
          "data": {
            "text/plain": [
              "level\n",
              "Senior level    434\n",
              "Mid-level       233\n",
              "Entry level      22\n",
              "Name: count, dtype: int64"
            ],
            "text/html": [
              "<div>\n",
              "<style scoped>\n",
              "    .dataframe tbody tr th:only-of-type {\n",
              "        vertical-align: middle;\n",
              "    }\n",
              "\n",
              "    .dataframe tbody tr th {\n",
              "        vertical-align: top;\n",
              "    }\n",
              "\n",
              "    .dataframe thead th {\n",
              "        text-align: right;\n",
              "    }\n",
              "</style>\n",
              "<table border=\"1\" class=\"dataframe\">\n",
              "  <thead>\n",
              "    <tr style=\"text-align: right;\">\n",
              "      <th></th>\n",
              "      <th>count</th>\n",
              "    </tr>\n",
              "    <tr>\n",
              "      <th>level</th>\n",
              "      <th></th>\n",
              "    </tr>\n",
              "  </thead>\n",
              "  <tbody>\n",
              "    <tr>\n",
              "      <th>Senior level</th>\n",
              "      <td>434</td>\n",
              "    </tr>\n",
              "    <tr>\n",
              "      <th>Mid-level</th>\n",
              "      <td>233</td>\n",
              "    </tr>\n",
              "    <tr>\n",
              "      <th>Entry level</th>\n",
              "      <td>22</td>\n",
              "    </tr>\n",
              "  </tbody>\n",
              "</table>\n",
              "</div><br><label><b>dtype:</b> int64</label>"
            ]
          },
          "metadata": {},
          "execution_count": 3
        }
      ]
    },
    {
      "cell_type": "code",
      "source": [
        "# inspect description example\n",
        "df['full description'][0]"
      ],
      "metadata": {
        "colab": {
          "base_uri": "https://localhost:8080/",
          "height": 139
        },
        "id": "MevgMQBAryEj",
        "outputId": "8cb2d50a-c08b-4555-a018-8f65cf9a53cb"
      },
      "execution_count": 4,
      "outputs": [
        {
          "output_type": "execute_result",
          "data": {
            "text/plain": [
              "'Job SummaryWe are seeking a skilled Data Scientist with expertise in simulation models within the Retail sector. In this role, you will collaborate with cross-functional teams to develop and implement advanced simulation models, conduct in-depth \\'what-if\\' analyses, and support strategic decision-making through simulation, optimization, and operations research.\"Key Responsibilities · Build scalable simulation frameworks in Python (e.g., using SimPy or other simulation libraries), with openness to exploring other platforms or tools.· Collaborate with stakeholders to define key performance indicators (KPIs), data requirements, and realistic assumptions in simulation modeling.· Apply advanced optimization methods (linear programming, mixed-integer programming, heuristic algorithms, etc.) to support supply chain decision-making.· Work closely with cross-functional teams to identify areas of opportunity for optimization in transportation, inventory, and warehouse operations.Qualifications· Master’s or Ph.D. in Operations Research, Industrial Engineering, Computer Science, Data Science, or a related field.· Hands-on experience in building discrete event simulation models and running complex simulation projects.· Demonstrated experience with optimization techniques in a supply chain or related domain.Technical Skills· Proficiency in Python required; experience with simulation libraries (e.g., SimPy, AnyLogic, Arena, or similar) is highly preferred.· Knowledge of linear programming, mixed-integer programming, and heuristic algorithms; familiarity with OR tools (e.g., PuLP, Pyomo, Gurobi, CPLEX) is advantageous.· Strong skills in SQL, data wrangling, and data visualization (e.g., Tableau, Power BI, matplotlib, Plotly).· Familiarity with cloud platforms (e.g., Azure, AWS) and big data technologies (e.g., Spark, Hadoop) is a plus.· Experience with model calibration, validation techniques, and scenario-based analysis.· Experience in supply chain, logistics, retail, or e-commerce industry preferred.Job Types: Full-time, ContractPay: $15.02 - $20.84 per hourSchedule:Monday to FridayWork Location: Remote'"
            ],
            "application/vnd.google.colaboratory.intrinsic+json": {
              "type": "string"
            }
          },
          "metadata": {},
          "execution_count": 4
        }
      ]
    },
    {
      "cell_type": "markdown",
      "source": [
        "### Preprocess Data and EDA"
      ],
      "metadata": {
        "id": "4pYoV6mQrfff"
      }
    },
    {
      "cell_type": "code",
      "source": [
        "# Splitting the Data\n",
        "X = df['full description']\n",
        "y = df['level']\n",
        "X_train, X_test, y_train, y_test = train_test_split(X, y, test_size=0.2, random_state=42)"
      ],
      "metadata": {
        "id": "g4PPJ9-V1ado"
      },
      "execution_count": 5,
      "outputs": []
    },
    {
      "cell_type": "code",
      "source": [
        "# plot the target distribution\n",
        "plt.figure(figsize=(8,5))\n",
        "sns.countplot(df['level'])\n",
        "plt.title('Target distribution')\n",
        "plt.show()"
      ],
      "metadata": {
        "colab": {
          "base_uri": "https://localhost:8080/",
          "height": 496
        },
        "id": "gX3TtwgiihPf",
        "outputId": "a2dff3a2-1374-44dc-e79c-86331cdddd48"
      },
      "execution_count": 6,
      "outputs": [
        {
          "output_type": "display_data",
          "data": {
            "text/plain": [
              "<Figure size 800x500 with 1 Axes>"
            ],
            "image/png": "[encoded data removed]"
          },
          "metadata": {}
        }
      ]
    },
    {
      "cell_type": "code",
      "source": [
        "# first convert Text to Numeric Features\n",
        "vectorizer = CountVectorizer()\n",
        "X_train_CV = vectorizer.fit_transform(X_train)\n",
        "X_test_CV = vectorizer.transform(X_test)"
      ],
      "metadata": {
        "id": "3UDmbmrs1sPq"
      },
      "execution_count": 7,
      "outputs": []
    },
    {
      "cell_type": "code",
      "source": [
        "# over-sampling SMOTE\n",
        "from imblearn.over_sampling import SMOTE\n",
        "\n",
        "smote = SMOTE(sampling_strategy='auto', random_state=42)\n",
        "X_CV_SMOTE, y_CV_SMOTE = smote.fit_resample(X_train_CV, y_train)"
      ],
      "metadata": {
        "id": "6MgZhXTMjKG4"
      },
      "execution_count": 8,
      "outputs": []
    },
    {
      "cell_type": "code",
      "source": [
        "# plot the target distribution\n",
        "plt.figure(figsize=(8,5))\n",
        "sns.countplot(y_CV_SMOTE)\n",
        "plt.title('Target distribution')\n",
        "plt.show()"
      ],
      "metadata": {
        "colab": {
          "base_uri": "https://localhost:8080/",
          "height": 496
        },
        "id": "7lzGYc5cquJc",
        "outputId": "42d1e610-e243-4a93-fb50-0d2264bfb8d6"
      },
      "execution_count": 9,
      "outputs": [
        {
          "output_type": "display_data",
          "data": {
            "text/plain": [
              "<Figure size 800x500 with 1 Axes>"
            ],
            "image/png": "[encoded data removed]"
          },
          "metadata": {}
        }
      ]
    },
    {
      "cell_type": "markdown",
      "source": [
        "### Implement Model"
      ],
      "metadata": {
        "id": "jkbQU3Psro9h"
      }
    },
    {
      "cell_type": "markdown",
      "source": [
        "#### CountVectorizer"
      ],
      "metadata": {
        "id": "n4eMzuj4r3XK"
      }
    },
    {
      "cell_type": "code",
      "source": [
        "# training the Naive Bayes Classifier\n",
        "model = MultinomialNB()\n",
        "model.fit(X_CV_SMOTE, y_CV_SMOTE)\n",
        "# make predictions\n",
        "y_pred = model.predict(X_test_CV)"
      ],
      "metadata": {
        "id": "pVe0JnRp4fBX"
      },
      "execution_count": 10,
      "outputs": []
    },
    {
      "cell_type": "code",
      "source": [
        "# evaluate the model\n",
        "accuracy = accuracy_score(y_test, y_pred)\n",
        "conf_matrix = confusion_matrix(y_test, y_pred)\n",
        "\n",
        "print(f'Accuracy: {accuracy *100}%')\n",
        "\n",
        "class_labels = np.unique(y_test)\n",
        "\n",
        "plt.figure(figsize=(8, 6))\n",
        "sns.heatmap(conf_matrix, annot=True, fmt='d', cmap='Blues', xticklabels=class_labels, yticklabels=class_labels)\n",
        "plt.title('Confusion Matrix Heatmap')\n",
        "plt.xlabel('Predicted Label')\n",
        "plt.ylabel('True Label')\n",
        "plt.show()\n"
      ],
      "metadata": {
        "colab": {
          "base_uri": "https://localhost:8080/",
          "height": 590
        },
        "id": "fAxm7CCw4-E6",
        "outputId": "63aff353-99c1-4de1-a98d-a1b427f67725"
      },
      "execution_count": 11,
      "outputs": [
        {
          "output_type": "stream",
          "name": "stdout",
          "text": [
            "Accuracy: 65.94202898550725%\n"
          ]
        },
        {
          "output_type": "display_data",
          "data": {
            "text/plain": [
              "<Figure size 800x600 with 2 Axes>"
            ],
            "image/png": "[encoded data removed]"
          },
          "metadata": {}
        }
      ]
    },
    {
      "cell_type": "code",
      "source": [
        "print(classification_report(y_test, y_pred, target_names=class_labels))"
      ],
      "metadata": {
        "colab": {
          "base_uri": "https://localhost:8080/"
        },
        "id": "P6fB7nd4swIZ",
        "outputId": "61877e91-02a9-4275-fbda-ab65294496fc"
      },
      "execution_count": 12,
      "outputs": [
        {
          "output_type": "stream",
          "name": "stdout",
          "text": [
            "              precision    recall  f1-score   support\n",
            "\n",
            " Entry level       0.00      0.00      0.00         4\n",
            "   Mid-level       0.65      0.43      0.52        56\n",
            "Senior level       0.66      0.86      0.75        78\n",
            "\n",
            "    accuracy                           0.66       138\n",
            "   macro avg       0.44      0.43      0.42       138\n",
            "weighted avg       0.64      0.66      0.63       138\n",
            "\n"
          ]
        }
      ]
    },
    {
      "cell_type": "markdown",
      "source": [
        "#### TfidfVectorizer"
      ],
      "metadata": {
        "id": "VmgyycdeVqu7"
      }
    },
    {
      "cell_type": "code",
      "source": [
        "# Text Preprocessing: Converting Text to Numeric Features\n",
        "vectorizer = TfidfVectorizer()\n",
        "X_train_Tff = vectorizer.fit_transform(X_train)\n",
        "X_test_Tff = vectorizer.transform(X_test)"
      ],
      "metadata": {
        "id": "No-Yni2YrIK-"
      },
      "execution_count": 13,
      "outputs": []
    },
    {
      "cell_type": "code",
      "source": [
        "# over-sampling SMOTE\n",
        "from imblearn.over_sampling import SMOTE\n",
        "\n",
        "smote = SMOTE(sampling_strategy='auto', random_state=42)\n",
        "X_Tff_SMOTE, y_Tff_SMOTE = smote.fit_resample(X_train_Tff, y_train)"
      ],
      "metadata": {
        "id": "BVQVuit_rIb4"
      },
      "execution_count": 14,
      "outputs": []
    },
    {
      "cell_type": "code",
      "source": [
        "# plot the target distribution\n",
        "plt.figure(figsize=(8,5))\n",
        "sns.countplot(y_Tff_SMOTE)\n",
        "plt.title('Target distribution')\n",
        "plt.show()"
      ],
      "metadata": {
        "colab": {
          "base_uri": "https://localhost:8080/",
          "height": 496
        },
        "id": "nMsFlkBZwxl8",
        "outputId": "8ea0d316-948f-4905-950a-3db9ab57fcd2"
      },
      "execution_count": 15,
      "outputs": [
        {
          "output_type": "display_data",
          "data": {
            "text/plain": [
              "<Figure size 800x500 with 1 Axes>"
            ],
            "image/png": "[encoded data removed]"
          },
          "metadata": {}
        }
      ]
    },
    {
      "cell_type": "code",
      "source": [
        "# training the Naive Bayes Classifier\n",
        "model = MultinomialNB()\n",
        "model.fit(X_Tff_SMOTE, y_Tff_SMOTE)\n",
        "# make predictions\n",
        "y_pred2 = model.predict(X_test_Tff)"
      ],
      "metadata": {
        "id": "9MYxmC2_v2uq"
      },
      "execution_count": 16,
      "outputs": []
    },
    {
      "cell_type": "code",
      "source": [
        "# evaluate the model\n",
        "accuracy2 = accuracy_score(y_test, y_pred2)\n",
        "conf_matrix2 = confusion_matrix(y_test, y_pred2)\n",
        "\n",
        "print(f'Accuracy: {accuracy2 *100}%')\n",
        "\n",
        "plt.figure(figsize=(8, 6))\n",
        "sns.heatmap(conf_matrix2, annot=True, fmt='d', cmap='Blues', xticklabels=class_labels, yticklabels=class_labels)\n",
        "plt.title('Confusion Matrix Heatmap')\n",
        "plt.xlabel('Predicted Label')\n",
        "plt.ylabel('True Label')\n",
        "plt.show()\n"
      ],
      "metadata": {
        "colab": {
          "base_uri": "https://localhost:8080/",
          "height": 590
        },
        "id": "HVvoiXq-wB-P",
        "outputId": "e82b234a-83dc-4a6e-996c-995ec20fba5b"
      },
      "execution_count": 17,
      "outputs": [
        {
          "output_type": "stream",
          "name": "stdout",
          "text": [
            "Accuracy: 61.59420289855072%\n"
          ]
        },
        {
          "output_type": "display_data",
          "data": {
            "text/plain": [
              "<Figure size 800x600 with 2 Axes>"
            ],
            "image/png": "[encoded data removed]"
          },
          "metadata": {}
        }
      ]
    },
    {
      "cell_type": "code",
      "source": [
        "print(classification_report(y_test, y_pred2, target_names=class_labels))"
      ],
      "metadata": {
        "colab": {
          "base_uri": "https://localhost:8080/"
        },
        "outputId": "9f0962c4-ab0d-4fa5-f19e-75ff49181ba7",
        "id": "jar3vPFOtxHm"
      },
      "execution_count": 18,
      "outputs": [
        {
          "output_type": "stream",
          "name": "stdout",
          "text": [
            "              precision    recall  f1-score   support\n",
            "\n",
            " Entry level       0.00      0.00      0.00         4\n",
            "   Mid-level       0.57      0.45      0.50        56\n",
            "Senior level       0.68      0.77      0.72        78\n",
            "\n",
            "    accuracy                           0.62       138\n",
            "   macro avg       0.42      0.41      0.41       138\n",
            "weighted avg       0.62      0.62      0.61       138\n",
            "\n"
          ]
        }
      ]
    },
    {
      "cell_type": "markdown",
      "source": [
        "### Improve model"
      ],
      "metadata": {
        "id": "QIw2E7JqrT2l"
      }
    },
    {
      "cell_type": "code",
      "source": [
        "# Text Preprocessing: add lemmatization and stop-word removal\n",
        "\n",
        "# Load full english language model\n",
        "nlp = spacy.load('en_core_web_sm')\n",
        "\n",
        "# Disable named-entity recognition and parsing to save time\n",
        "unwanted_pipes = ['ner', 'parser']\n",
        "\n",
        "# Custom tokenizer using spacy\n",
        "def custom_tokenizer(doc):\n",
        "    with nlp.disable_pipes(*unwanted_pipes):\n",
        "        return [t.lemma_ for t in nlp(doc) if not t.is_punct and not t.is_space and not t.is_stop and t.is_alpha]"
      ],
      "metadata": {
        "id": "KZ8L3AKHWK2z"
      },
      "execution_count": 19,
      "outputs": []
    },
    {
      "cell_type": "code",
      "source": [
        "# Define vectorizer\n",
        "vectorizer = CountVectorizer(tokenizer=custom_tokenizer)\n",
        "\n",
        "# Fit and transform train data\n",
        "X_train_improved = vectorizer.fit_transform(X_train)\n",
        "X_test_improved = vectorizer.transform(X_test)"
      ],
      "metadata": {
        "id": "xZeIoZEGzAhZ"
      },
      "execution_count": 25,
      "outputs": []
    },
    {
      "cell_type": "code",
      "source": [
        "# tune additive smoothing for numerical stability using 'Alpha'\n",
        "grid = {'alpha': [0.001, 0.005, 0.01, 0.05, 0.1, 0.5, 1.0]}\n",
        "\n",
        "# define model\n",
        "clf = MultinomialNB()\n",
        "\n",
        "# define grid search\n",
        "model = GridSearchCV(clf, param_grid=grid, scoring='f1_macro', n_jobs=-1, cv=5, verbose=1)\n",
        "\n",
        "# train model using grid search\n",
        "model.fit(X_train_improved, y_train)\n",
        "\n",
        "# print best value of alpha\n",
        "print('Best parameters:', model.best_params_)"
      ],
      "metadata": {
        "colab": {
          "base_uri": "https://localhost:8080/"
        },
        "id": "xIRSody7zkWb",
        "outputId": "572680d2-6dfa-4b34-e436-ec8e5415171e"
      },
      "execution_count": 26,
      "outputs": [
        {
          "output_type": "stream",
          "name": "stdout",
          "text": [
            "Fitting 5 folds for each of 7 candidates, totalling 35 fits\n",
            "Best parameters: {'alpha': 0.05}\n"
          ]
        }
      ]
    },
    {
      "cell_type": "code",
      "source": [
        "# evaluate the model with alpha = 0.05\n",
        "y_pred3 = model.predict(X_test_improved)\n",
        "accuracy3 = accuracy_score(y_test, y_pred3)\n",
        "\n",
        "print('Test set F1-score:', f1_score(y_test, y_pred3, average='macro'))\n",
        "print(f'Accuracy: {accuracy3 *100}%')"
      ],
      "metadata": {
        "colab": {
          "base_uri": "https://localhost:8080/"
        },
        "id": "ksLPxTZ90miu",
        "outputId": "ab270b66-a64c-4623-cf45-a40415407f28"
      },
      "execution_count": 27,
      "outputs": [
        {
          "output_type": "stream",
          "name": "stdout",
          "text": [
            "Test set F1-score: 0.49231466539158847\n",
            "Accuracy: 63.04347826086957%\n"
          ]
        }
      ]
    },
    {
      "cell_type": "code",
      "source": [
        "conf_matrix3 = confusion_matrix(y_test, y_pred3)\n",
        "\n",
        "plt.figure(figsize=(8, 6))\n",
        "sns.heatmap(conf_matrix3, annot=True, fmt='d', cmap='Blues', xticklabels=class_labels, yticklabels=class_labels)\n",
        "plt.title('Confusion Matrix Heatmap')\n",
        "plt.xlabel('Predicted Label')\n",
        "plt.ylabel('True Label')\n",
        "plt.show()"
      ],
      "metadata": {
        "colab": {
          "base_uri": "https://localhost:8080/",
          "height": 573
        },
        "id": "8RgMyuBq0x-o",
        "outputId": "c3beb34f-0698-4828-b9f8-ec36c77944d5"
      },
      "execution_count": 28,
      "outputs": [
        {
          "output_type": "display_data",
          "data": {
            "text/plain": [
              "<Figure size 800x600 with 2 Axes>"
            ],
            "image/png": "[encoded data removed]"
          },
          "metadata": {}
        }
      ]
    },
    {
      "cell_type": "code",
      "source": [
        "print(classification_report(y_test, y_pred3, target_names=class_labels))"
      ],
      "metadata": {
        "colab": {
          "base_uri": "https://localhost:8080/"
        },
        "id": "2FWsOqf9Au8D",
        "outputId": "dbfd15c7-5db2-4d47-ec81-62ec29c3eea6"
      },
      "execution_count": 29,
      "outputs": [
        {
          "output_type": "stream",
          "name": "stdout",
          "text": [
            "              precision    recall  f1-score   support\n",
            "\n",
            " Entry level       0.25      0.25      0.25         4\n",
            "   Mid-level       0.58      0.45      0.51        56\n",
            "Senior level       0.67      0.78      0.72        78\n",
            "\n",
            "    accuracy                           0.63       138\n",
            "   macro avg       0.50      0.49      0.49       138\n",
            "weighted avg       0.62      0.63      0.62       138\n",
            "\n"
          ]
        }
      ]
    }
  ]
}